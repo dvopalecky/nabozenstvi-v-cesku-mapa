{
 "cells": [
  {
   "cell_type": "code",
   "execution_count": 1,
   "metadata": {},
   "outputs": [],
   "source": [
    "import pandas as pd\n",
    "\n",
    "# import raw data and convert into a pivot table,\n",
    "# rename duplicates,\n",
    "# also create indexes for uzemi_kod and vira_kod\n",
    "\n",
    "df = pd.read_csv(\"sldb2021_vira.csv\")\n",
    "# remove columns with only one unique value\n",
    "df = df.loc[:, df.nunique() > 1]\n",
    "\n",
    "df[\"vira_kod\"] = df[\"vira_kod\"].fillna(0).astype(int)\n",
    "# take only vira_kod and vira_txt columns and get unique values\n",
    "df_vira = df[[\"vira_kod\", \"vira_txt\"]].drop_duplicates()\n",
    "df_vira.to_csv(\"vira_index.csv\", index=False)\n",
    "\n",
    "\n",
    "# clean up duplicates in (uzemi_kod, uzemi_txt)\n",
    "df.loc[(df[\"uzemi_kod\"] == 3107) & (df[\"uzemi_txt\"] == \"Milevsko\"), \"uzemi_kod\"] = (\n",
    "    1113107\n",
    ")\n",
    "df.loc[\n",
    "    (df[\"uzemi_kod\"] == 3115) & (df[\"uzemi_txt\"] == \"Týn nad Vltavou\"), \"uzemi_kod\"\n",
    "] = 1113115\n",
    "# take only uzemi_kod and uzemi_txt columns and get unique values\n",
    "df_uzemi = df[[\"uzemi_kod\", \"uzemi_txt\"]].drop_duplicates()\n",
    "# sort by number of digits in uzemi_kod, add a nb_digits column\n",
    "df_uzemi[\"nb_digits\"] = df_uzemi[\"uzemi_kod\"].apply(lambda x: len(str(x)))\n",
    "df_uzemi = df_uzemi.sort_values(by=\"nb_digits\", ascending=True)\n",
    "df_uzemi.to_csv(\"uzemi_index.csv\", index=False)\n",
    "\n",
    "\n",
    "df = df.drop(columns=[\"idhod\", \"vira_txt\", \"uzemi_txt\", \"uzemi_cis\"])\n",
    "\n",
    "# pivot table, rows are uzemi_kod, columns are vira_kod, values are hodnota\n",
    "df_pivot = df.pivot(index=\"uzemi_kod\", columns=\"vira_kod\", values=\"hodnota\")\n",
    "df_pivot.to_csv(\"docs/vira_by_uzemi.csv\")"
   ]
  }
 ],
 "metadata": {
  "kernelspec": {
   "display_name": "Python 3",
   "language": "python",
   "name": "python3"
  },
  "language_info": {
   "codemirror_mode": {
    "name": "ipython",
    "version": 3
   },
   "file_extension": ".py",
   "mimetype": "text/x-python",
   "name": "python",
   "nbconvert_exporter": "python",
   "pygments_lexer": "ipython3",
   "version": "3.11.10"
  }
 },
 "nbformat": 4,
 "nbformat_minor": 2
}

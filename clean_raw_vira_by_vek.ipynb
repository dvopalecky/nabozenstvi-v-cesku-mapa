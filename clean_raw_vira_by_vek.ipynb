{
 "cells": [
  {
   "cell_type": "code",
   "execution_count": 30,
   "metadata": {},
   "outputs": [],
   "source": [
    "import pandas as pd\n",
    "\n",
    "# import raw data and convert into a pivot table,\n",
    "df = pd.read_csv(\"sldb2021_vira_vek_pohlavi.csv\")\n",
    "df = df.loc[:, df.nunique() > 1]\n",
    "df_cr = df.loc[:24239]\n",
    "\n",
    "# remove \"Věřící\" and \"Věřící - hlásící se k církvi, náboženské společnosti\" from vira_txt\n",
    "df_cr = df_cr[\n",
    "    ~df_cr[\"vira_txt\"].isin(\n",
    "        [\"Věřící\", \"Věřící - hlásící se k církvi, náboženské společnosti\"]\n",
    "    )\n",
    "]\n",
    "\n",
    "df_cr = df_cr[df_cr[\"pohlavi_kod\"].isin([1, 2])]\n",
    "df_cr = df_cr.drop(\n",
    "    columns=[\n",
    "        \"vira_cleneni\",\n",
    "        \"vek_kod\",\n",
    "        \"uzemi_cis\",\n",
    "        \"uzemi_txt\",\n",
    "        \"pohlavi_txt\",\n",
    "        \"vira_txt\",\n",
    "        \"uzemi_kod\",\n",
    "        \"vira_cis\",\n",
    "        \"idhod\",\n",
    "    ]\n",
    ")\n",
    "\n",
    "df_cr[\"vek_txt\"] = df_cr[\"vek_txt\"].str.split().str[0].astype(int)\n",
    "df_cr[\"pohlavi_kod\"] = df_cr[\"pohlavi_kod\"].astype(int)\n",
    "\n",
    "# Create pivot table with vek_txt and pohlavi_kod as row index, vira_kod as columns\n",
    "df_pivot = pd.pivot_table(\n",
    "    df_cr,\n",
    "    values=\"hodnota\",\n",
    "    index=[\"vek_txt\", \"pohlavi_kod\"],\n",
    "    columns=\"vira_kod\",\n",
    "    aggfunc=\"sum\",\n",
    ")\n",
    "\n",
    "df_pivot.to_csv(\"vira_vek_cr.csv\")"
   ]
  }
 ],
 "metadata": {
  "kernelspec": {
   "display_name": "Python 3",
   "language": "python",
   "name": "python3"
  },
  "language_info": {
   "codemirror_mode": {
    "name": "ipython",
    "version": 3
   },
   "file_extension": ".py",
   "mimetype": "text/x-python",
   "name": "python",
   "nbconvert_exporter": "python",
   "pygments_lexer": "ipython3",
   "version": "3.11.10"
  }
 },
 "nbformat": 4,
 "nbformat_minor": 2
}
